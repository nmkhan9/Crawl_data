{
 "cells": [
  {
   "cell_type": "code",
   "execution_count": 18,
   "id": "cc706da4",
   "metadata": {},
   "outputs": [],
   "source": [
    "from selenium import webdriver\n",
    "import time\n",
    "from bs4 import BeautifulSoup\n",
    "import pandas as pd\n",
    "from selenium.webdriver.common.by import By\n",
    "from selenium.common.exceptions import NoSuchElementException\n",
    "from selenium.webdriver.chrome.service import Service"
   ]
  },
  {
   "cell_type": "code",
   "execution_count": 19,
   "id": "69c48e1b",
   "metadata": {},
   "outputs": [],
   "source": [
    "prodcut_links = []"
   ]
  },
  {
   "cell_type": "code",
   "execution_count": 20,
   "id": "9577d98b",
   "metadata": {},
   "outputs": [],
   "source": [
    "driver = webdriver.Chrome()\n",
    "\n",
    "url = \"https://www.thegioididong.com/laptop\"\n",
    "\n",
    "driver.get(url)\n",
    "time.sleep(2)\n",
    "\n",
    "soup = BeautifulSoup(driver.page_source, \"html.parser\")\n",
    "\n",
    "\n",
    "driver.quit()"
   ]
  },
  {
   "cell_type": "code",
   "execution_count": 21,
   "id": "83ab4993",
   "metadata": {},
   "outputs": [
    {
     "data": {
      "text/plain": [
       "'\\ndriver = webdriver.Chrome()\\n\\nurl = \"https://www.thegioididong.com/laptop\"\\n\\ndriver.get(url)\\ntime.sleep(2)\\nfor i in range (1,2,1):\\n    try:\\n        btn = driver.find_element(By.CSS_SELECTOR, \"strong.see-more-btn\")\\n        driver.execute_script(\"arguments[0].click();\", btn)\\n        print(\"Bấm nút xem thêm...\")\\n        time.sleep(2)  # Chờ sản phẩm load thêm\\n    except NoSuchElementException:\\n        print(\"Đã load hết sản phẩm.\")\\n        break\\n\\nsoup = BeautifulSoup(driver.page_source, \"html.parser\")\\n\\n\\ndriver.quit()\\n'"
      ]
     },
     "execution_count": 21,
     "metadata": {},
     "output_type": "execute_result"
    }
   ],
   "source": [
    "\"\"\"\n",
    "driver = webdriver.Chrome()\n",
    "\n",
    "url = \"https://www.thegioididong.com/laptop\"\n",
    "\n",
    "driver.get(url)\n",
    "time.sleep(2)\n",
    "for i in range (1,2,1):\n",
    "    try:\n",
    "        btn = driver.find_element(By.CSS_SELECTOR, \"strong.see-more-btn\")\n",
    "        driver.execute_script(\"arguments[0].click();\", btn)\n",
    "        print(\"Bấm nút xem thêm...\")\n",
    "        time.sleep(2)  # Chờ sản phẩm load thêm\n",
    "    except NoSuchElementException:\n",
    "        print(\"Đã load hết sản phẩm.\")\n",
    "        break\n",
    "\n",
    "soup = BeautifulSoup(driver.page_source, \"html.parser\")\n",
    "\n",
    "\n",
    "driver.quit()\n",
    "\"\"\""
   ]
  },
  {
   "cell_type": "code",
   "execution_count": 22,
   "id": "c2ffe0c8",
   "metadata": {},
   "outputs": [
    {
     "name": "stdout",
     "output_type": "stream",
     "text": [
      "https://www.thegioididong.com/laptop/asus-vivobook-go-15-e1504fa-r5-nj776w\n",
      "https://www.thegioididong.com/laptop/hp-15-fd0234tu-i5-9q969pa?utm_flashsale=1\n",
      "https://www.thegioididong.com/laptop/dell-inspiron-15-3520-i5-n5i5057w1\n",
      "https://www.thegioididong.com/laptop/macbook-air-13-inch-m4-16gb-256gb\n",
      "https://www.thegioididong.com/laptop/lenovo-ideapad-slim-3-15irh10-i5-83k1000hvn\n",
      "https://www.thegioididong.com/laptop/acer-aspire-go-ag15-31p-30m4-i3-nxkrpsv004\n",
      "https://www.thegioididong.com/laptop/hp-15-fc0085au-r5-a6vv8pa?utm_flashsale=1\n",
      "https://www.thegioididong.com/laptop/asus-vivobook-15-x1504va-i3-nj1634w?utm_flashsale=1\n",
      "https://www.thegioididong.com/laptop/acer-nitro-v-15-anv15-41-r2up-r5-nhqpgsv004\n",
      "https://www.thegioididong.com/laptop/lenovo-ideapad-slim-3-15amn8-r5-82xq00j0vn\n",
      "https://www.thegioididong.com/laptop/msi-thin-15-b12ucx-i5-2046vn?utm_flashsale=1\n",
      "https://www.thegioididong.com/laptop/hp-15-fd0303tu-i3-a2nl4pa\n",
      "https://www.thegioididong.com/laptop/dell-inspiron-15-3520-i5-25p231\n",
      "https://www.thegioididong.com/laptop/asus-vivobook-16-x1605va-i5-mb360w\n",
      "https://www.thegioididong.com/laptop/apple-macbook-air-2020-mgn63saa\n",
      "https://www.thegioididong.com/laptop/acer-aspire-3-a314-42p-r3b3-r7-nxksfsv001?utm_flashsale=1\n",
      "https://www.thegioididong.com/laptop/lenovo-ideapad-slim-3-15irh10-i7-83k1000fvn\n",
      "https://www.thegioididong.com/laptop/msi-modern-15-f13mg-i5-082vn\n",
      "https://www.thegioididong.com/laptop/hp-245-g10-r5-a20tdpt\n",
      "https://www.thegioididong.com/laptop/lenovo-ideapad-slim-3-16irh10-i5-83k20003vn\n"
     ]
    }
   ],
   "source": [
    "items = soup.select(\"li.item.__cate_44\")\n",
    "product_links = []\n",
    "for item in items:\n",
    "    href = item.select_one(\"a.main-contain\").get(\"href\")\n",
    "    full_link = \"https://www.thegioididong.com\" + href\n",
    "    product_links.append(full_link)\n",
    "    print(full_link)\n"
   ]
  },
  {
   "cell_type": "code",
   "execution_count": 23,
   "id": "38350d9a",
   "metadata": {},
   "outputs": [
    {
     "data": {
      "text/plain": [
       "['https://www.thegioididong.com/laptop/asus-vivobook-go-15-e1504fa-r5-nj776w',\n",
       " 'https://www.thegioididong.com/laptop/hp-15-fd0234tu-i5-9q969pa?utm_flashsale=1',\n",
       " 'https://www.thegioididong.com/laptop/dell-inspiron-15-3520-i5-n5i5057w1',\n",
       " 'https://www.thegioididong.com/laptop/macbook-air-13-inch-m4-16gb-256gb',\n",
       " 'https://www.thegioididong.com/laptop/lenovo-ideapad-slim-3-15irh10-i5-83k1000hvn',\n",
       " 'https://www.thegioididong.com/laptop/acer-aspire-go-ag15-31p-30m4-i3-nxkrpsv004',\n",
       " 'https://www.thegioididong.com/laptop/hp-15-fc0085au-r5-a6vv8pa?utm_flashsale=1',\n",
       " 'https://www.thegioididong.com/laptop/asus-vivobook-15-x1504va-i3-nj1634w?utm_flashsale=1',\n",
       " 'https://www.thegioididong.com/laptop/acer-nitro-v-15-anv15-41-r2up-r5-nhqpgsv004',\n",
       " 'https://www.thegioididong.com/laptop/lenovo-ideapad-slim-3-15amn8-r5-82xq00j0vn',\n",
       " 'https://www.thegioididong.com/laptop/msi-thin-15-b12ucx-i5-2046vn?utm_flashsale=1',\n",
       " 'https://www.thegioididong.com/laptop/hp-15-fd0303tu-i3-a2nl4pa',\n",
       " 'https://www.thegioididong.com/laptop/dell-inspiron-15-3520-i5-25p231',\n",
       " 'https://www.thegioididong.com/laptop/asus-vivobook-16-x1605va-i5-mb360w',\n",
       " 'https://www.thegioididong.com/laptop/apple-macbook-air-2020-mgn63saa',\n",
       " 'https://www.thegioididong.com/laptop/acer-aspire-3-a314-42p-r3b3-r7-nxksfsv001?utm_flashsale=1',\n",
       " 'https://www.thegioididong.com/laptop/lenovo-ideapad-slim-3-15irh10-i7-83k1000fvn',\n",
       " 'https://www.thegioididong.com/laptop/msi-modern-15-f13mg-i5-082vn',\n",
       " 'https://www.thegioididong.com/laptop/hp-245-g10-r5-a20tdpt',\n",
       " 'https://www.thegioididong.com/laptop/lenovo-ideapad-slim-3-16irh10-i5-83k20003vn']"
      ]
     },
     "execution_count": 23,
     "metadata": {},
     "output_type": "execute_result"
    }
   ],
   "source": [
    "product_links"
   ]
  },
  {
   "cell_type": "code",
   "execution_count": 24,
   "id": "5aeca24f",
   "metadata": {},
   "outputs": [
    {
     "name": "stdout",
     "output_type": "stream",
     "text": [
      "1. Laptop Asus Vivobook Go 15 E1504FA R5 7520U/16GB/512GB/Win11 (NJ776W) | 12.690.000₫ * | https://www.thegioididong.com/laptop/asus-vivobook-go-15-e1504fa-r5-nj776w\n",
      "2. Laptop HP 15 fd0234TU i5 1334U/16GB/512GB/Win11 (9Q969PA) | No price | https://www.thegioididong.com/laptop/hp-15-fd0234tu-i5-9q969pa?utm_flashsale=1\n",
      "3. Laptop Dell Inspiron 15 3520 i5 1235U/16GB/512GB/120Hz/OfficeHS/Win11 (N5I5057W1) | 16.490.000₫ * | https://www.thegioididong.com/laptop/dell-inspiron-15-3520-i5-n5i5057w1\n",
      "4. Laptop MacBook Air 13 inch M4 16GB/256GB | 26.290.000₫ | https://www.thegioididong.com/laptop/macbook-air-13-inch-m4-16gb-256gb\n",
      "5. Laptop Lenovo IdeaPad Slim 3 15IRH10 i5 13420H/16GB/512GB/Win11 (83K1000HVN) | 14.790.000₫ * | https://www.thegioididong.com/laptop/lenovo-ideapad-slim-3-15irh10-i5-83k1000hvn\n"
     ]
    }
   ],
   "source": [
    "driver = webdriver.Chrome()\n",
    "for i, link in enumerate(product_links[:5], 1):\n",
    "    driver.get(link)\n",
    "    time.sleep(2)\n",
    "    detail_soup = BeautifulSoup(driver.page_source, \"html.parser\")\n",
    "\n",
    "    # Get name product\n",
    "    title = detail_soup.select_one(\"div.product-name h1\")\n",
    "    title_text = title.text.strip() if title else \"No title\"\n",
    "\n",
    "    # get price\n",
    "    price = detail_soup.select_one(\"p.box-price-present\")\n",
    "    price_text = price.text.strip() if price else \"No price\"\n",
    "\n",
    "    print(f\"{i}. {title_text} | {price_text} | {link}\")\n",
    "\n",
    "driver.quit()"
   ]
  },
  {
   "cell_type": "code",
   "execution_count": null,
   "id": "44cfc13f",
   "metadata": {},
   "outputs": [],
   "source": []
  }
 ],
 "metadata": {
  "kernelspec": {
   "display_name": "base",
   "language": "python",
   "name": "python3"
  },
  "language_info": {
   "codemirror_mode": {
    "name": "ipython",
    "version": 3
   },
   "file_extension": ".py",
   "mimetype": "text/x-python",
   "name": "python",
   "nbconvert_exporter": "python",
   "pygments_lexer": "ipython3",
   "version": "3.11.5"
  }
 },
 "nbformat": 4,
 "nbformat_minor": 5
}
