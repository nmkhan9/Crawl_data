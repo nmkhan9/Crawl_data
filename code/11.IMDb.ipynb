{
 "cells": [
  {
   "cell_type": "markdown",
   "id": "0c707102",
   "metadata": {},
   "source": [
    "link = \"https://www.imdb.com/chart/top/\""
   ]
  },
  {
   "cell_type": "code",
   "execution_count": 1,
   "id": "4f6c4d3f",
   "metadata": {},
   "outputs": [],
   "source": [
    "from selenium import webdriver\n",
    "import time\n",
    "from bs4 import BeautifulSoup\n",
    "import json\n",
    "import pandas  as pd"
   ]
  },
  {
   "cell_type": "code",
   "execution_count": 2,
   "id": "c5efe2a0",
   "metadata": {},
   "outputs": [],
   "source": [
    "driver = webdriver.Chrome()\n",
    "\n",
    "url = \"https://www.imdb.com/chart/top/\"\n",
    "driver.get(url)\n",
    "time.sleep(3)\n",
    "\n",
    "soup = BeautifulSoup(driver.page_source, \"html.parser\")\n",
    "\n",
    "driver.quit()"
   ]
  },
  {
   "cell_type": "code",
   "execution_count": 3,
   "id": "590a455e",
   "metadata": {},
   "outputs": [],
   "source": [
    "script_tag = soup.find(\"script\", id=\"__NEXT_DATA__\")\n",
    "json_data = json.loads(script_tag.string)\n",
    "\n",
    "film_list = json_data[\"props\"][\"pageProps\"][\"pageData\"][\"chartTitles\"][\"edges\"]"
   ]
  },
  {
   "cell_type": "code",
   "execution_count": 4,
   "id": "f93e5e7a",
   "metadata": {},
   "outputs": [],
   "source": [
    "data = []\n",
    "for film in film_list:\n",
    "    rank = film[\"currentRank\"]\n",
    "    node = film[\"node\"]\n",
    "    title = node[\"titleText\"][\"text\"]\n",
    "    year = node[\"releaseYear\"][\"year\"]\n",
    "    rating = node[\"ratingsSummary\"][\"aggregateRating\"]\n",
    "    data.append({\n",
    "        \"Rank\": rank,\n",
    "        \"Title\": title,\n",
    "        \"Year\": year,\n",
    "        \"Rating\": rating\n",
    "    })\n",
    "\n",
    "df = pd.DataFrame(data)"
   ]
  },
  {
   "cell_type": "code",
   "execution_count": 5,
   "id": "1ae6e31a",
   "metadata": {},
   "outputs": [
    {
     "data": {
      "text/html": [
       "<div>\n",
       "<style scoped>\n",
       "    .dataframe tbody tr th:only-of-type {\n",
       "        vertical-align: middle;\n",
       "    }\n",
       "\n",
       "    .dataframe tbody tr th {\n",
       "        vertical-align: top;\n",
       "    }\n",
       "\n",
       "    .dataframe thead th {\n",
       "        text-align: right;\n",
       "    }\n",
       "</style>\n",
       "<table border=\"1\" class=\"dataframe\">\n",
       "  <thead>\n",
       "    <tr style=\"text-align: right;\">\n",
       "      <th></th>\n",
       "      <th>Rank</th>\n",
       "      <th>Title</th>\n",
       "      <th>Year</th>\n",
       "      <th>Rating</th>\n",
       "    </tr>\n",
       "  </thead>\n",
       "  <tbody>\n",
       "    <tr>\n",
       "      <th>0</th>\n",
       "      <td>1</td>\n",
       "      <td>The Shawshank Redemption</td>\n",
       "      <td>1994</td>\n",
       "      <td>9.3</td>\n",
       "    </tr>\n",
       "    <tr>\n",
       "      <th>1</th>\n",
       "      <td>2</td>\n",
       "      <td>The Godfather</td>\n",
       "      <td>1972</td>\n",
       "      <td>9.2</td>\n",
       "    </tr>\n",
       "    <tr>\n",
       "      <th>2</th>\n",
       "      <td>3</td>\n",
       "      <td>The Dark Knight</td>\n",
       "      <td>2008</td>\n",
       "      <td>9.0</td>\n",
       "    </tr>\n",
       "    <tr>\n",
       "      <th>3</th>\n",
       "      <td>4</td>\n",
       "      <td>The Godfather Part II</td>\n",
       "      <td>1974</td>\n",
       "      <td>9.0</td>\n",
       "    </tr>\n",
       "    <tr>\n",
       "      <th>4</th>\n",
       "      <td>5</td>\n",
       "      <td>12 Angry Men</td>\n",
       "      <td>1957</td>\n",
       "      <td>9.0</td>\n",
       "    </tr>\n",
       "  </tbody>\n",
       "</table>\n",
       "</div>"
      ],
      "text/plain": [
       "   Rank                     Title  Year  Rating\n",
       "0     1  The Shawshank Redemption  1994     9.3\n",
       "1     2             The Godfather  1972     9.2\n",
       "2     3           The Dark Knight  2008     9.0\n",
       "3     4     The Godfather Part II  1974     9.0\n",
       "4     5              12 Angry Men  1957     9.0"
      ]
     },
     "execution_count": 5,
     "metadata": {},
     "output_type": "execute_result"
    }
   ],
   "source": [
    "df.head()"
   ]
  },
  {
   "cell_type": "code",
   "execution_count": 6,
   "id": "344364d3",
   "metadata": {},
   "outputs": [
    {
     "name": "stdout",
     "output_type": "stream",
     "text": [
      "✅ done file imdb_top250.csv\n"
     ]
    }
   ],
   "source": [
    "df.to_csv(\"11.imdb_top250.csv\", index=False, encoding=\"utf-8-sig\")\n",
    "\n",
    "print(\"✅ done file imdb_top250.csv\")"
   ]
  },
  {
   "cell_type": "code",
   "execution_count": null,
   "id": "3befa0c5",
   "metadata": {},
   "outputs": [],
   "source": []
  }
 ],
 "metadata": {
  "kernelspec": {
   "display_name": "base",
   "language": "python",
   "name": "python3"
  },
  "language_info": {
   "codemirror_mode": {
    "name": "ipython",
    "version": 3
   },
   "file_extension": ".py",
   "mimetype": "text/x-python",
   "name": "python",
   "nbconvert_exporter": "python",
   "pygments_lexer": "ipython3",
   "version": "3.11.5"
  }
 },
 "nbformat": 4,
 "nbformat_minor": 5
}
