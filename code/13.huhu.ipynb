{
 "cells": [
  {
   "cell_type": "code",
   "execution_count": 3,
   "id": "608c4d7f",
   "metadata": {},
   "outputs": [],
   "source": [
    "import requests\n",
    "from bs4 import BeautifulSoup\n",
    "from selenium import webdriver\n",
    "from selenium.webdriver.common.by import By\n",
    "from selenium.webdriver.support.ui import WebDriverWait\n",
    "from selenium.webdriver.support import expected_conditions as EC\n",
    "import time"
   ]
  },
  {
   "cell_type": "code",
   "execution_count": 4,
   "id": "df423332",
   "metadata": {},
   "outputs": [],
   "source": [
    "driver = webdriver.Chrome()\n",
    "driver.get(\"http://quotes.toscrape.com/login\")\n",
    "\n",
    "wait = WebDriverWait(driver, 10)\n",
    "\n",
    "time.sleep(2) \n",
    "\n",
    "username_box = wait.until(EC.presence_of_element_located((By.ID, \"username\")))\n",
    "username_box.send_keys(\"*****\")\n",
    "\n",
    "password_box = wait.until(EC.presence_of_element_located((By.ID, \"password\")))\n",
    "password_box.send_keys(\"******\")\n",
    "\n",
    "login_button = wait.until(EC.element_to_be_clickable((By.CSS_SELECTOR, \"input.btn.btn-primary\")))\n",
    "login_button.click()\n",
    "\n",
    "time.sleep(10)\n",
    "driver.quit()"
   ]
  },
  {
   "cell_type": "code",
   "execution_count": 8,
   "id": "4f51eb20",
   "metadata": {},
   "outputs": [],
   "source": [
    "driver = webdriver.Chrome()\n",
    "\n",
    "driver.get(\"https://freestudy247.com/dashboard/#\")\n",
    "\n",
    "wait = WebDriverWait(driver,10)\n",
    "time.sleep(2)\n",
    "\n",
    "idname = wait.until(EC.presence_of_element_located((By.NAME,\"log\")))\n",
    "idname.send_keys(\"khang1234abc\")\n",
    "\n",
    "pw = wait.until(EC.presence_of_element_located((By.NAME,\"pwd\")))\n",
    "pw.send_keys(\"12345678\")\n",
    "\n",
    "log = wait.until(EC.element_to_be_clickable((By.CSS_SELECTOR,\"button.tutor-btn.tutor-btn-primary.tutor-btn-block\")))\n",
    "log.click()\n",
    "\n",
    "time.sleep(10)\n",
    "\n",
    "url2 = \"https://freestudy247.com/courses/\"\n",
    "driver.get(url2)\n",
    "\n",
    "soup = BeautifulSoup(driver.page_source,\"html.parser\")\n",
    "\n",
    "driver.quit()"
   ]
  },
  {
   "cell_type": "code",
   "execution_count": 14,
   "id": "cd58afbd",
   "metadata": {},
   "outputs": [
    {
     "name": "stdout",
     "output_type": "stream",
     "text": [
      "Khóa học Machine learning (Học máy) từ cơ bản đến nâng cao\n",
      "Node.js, Express, MongoDB & More: The Complete Bootcamp\n",
      "Thực hành SQL từ A –> Z để trở thành Data Analyst\n",
      "The Data Science Course: Complete Data Science Bootcamp 2024\n",
      "Phân tích dữ liệu bằng R cho người mới bắt đầu\n",
      "THÀNH THẠO XỬ LÝ DỮ LIỆU VỚI PYTHON TỪ SỐ 0\n",
      "Python for Data Science and Machine Learning Bootcamp\n",
      "C++ Data Structures & Algorithms + LEETCODE Exercises\n",
      "JavaScript Data Structures & Algorithms + LEETCODE Exercises\n",
      "Khóa Học Từ Vựng Tiếng Nhật N3 JLPT\n",
      "Chữ Cái Tiếng Nhật Và Từ Vựng Tiếng Nhật N5\n",
      "Lập Trình C# Căn Bản từ A-Z\n"
     ]
    }
   ],
   "source": [
    "name_tag = soup.select(\"div.tutor-card.tutor-course-card\")\n",
    "for nameid in name_tag :\n",
    "    name_ = nameid.select_one(\"div.tutor-card-body h3\")[\"title\"]\n",
    "\n",
    "    print(name_)"
   ]
  },
  {
   "cell_type": "code",
   "execution_count": 16,
   "id": "7687bf00",
   "metadata": {},
   "outputs": [],
   "source": [
    "driver = webdriver.Chrome()\n",
    "\n",
    "driver.get(\"https://freestudy247.com/dashboard/#\")\n",
    "\n",
    "wait = WebDriverWait(driver,10)\n",
    "time.sleep(2)\n",
    "\n",
    "idname = wait.until(EC.presence_of_element_located((By.NAME,\"log\")))\n",
    "idname.send_keys(\"khang1234abc\")\n",
    "\n",
    "pw = wait.until(EC.presence_of_element_located((By.NAME,\"pwd\")))\n",
    "pw.send_keys(\"12345678\")\n",
    "\n",
    "log = wait.until(EC.element_to_be_clickable((By.CSS_SELECTOR,\"button.tutor-btn.tutor-btn-primary.tutor-btn-block\")))\n",
    "log.click()\n",
    "\n",
    "time.sleep(10)\n",
    "\n",
    "url2 = \"https://freestudy247.com/courses/\"\n",
    "driver.get(url2)\n",
    "\n",
    "soup = BeautifulSoup(driver.page_source,\"html.parser\")\n",
    "\n",
    "time.sleep(10)\n",
    "\n",
    "for nameid in name_tag :\n",
    "    name_ = nameid.select_one(\"div.tutor-card-body h3.tutor-course-name.tutor-fs-5.tutor-fw-medium\")\n",
    "    name = name_.select_one(\"a\")[\"href\"]\n",
    "    driver.get(name)\n",
    "\n",
    "    time.sleep(5)\n",
    "driver.quit()"
   ]
  },
  {
   "cell_type": "code",
   "execution_count": null,
   "id": "3297e435",
   "metadata": {},
   "outputs": [],
   "source": []
  }
 ],
 "metadata": {
  "kernelspec": {
   "display_name": "base",
   "language": "python",
   "name": "python3"
  },
  "language_info": {
   "codemirror_mode": {
    "name": "ipython",
    "version": 3
   },
   "file_extension": ".py",
   "mimetype": "text/x-python",
   "name": "python",
   "nbconvert_exporter": "python",
   "pygments_lexer": "ipython3",
   "version": "3.11.5"
  }
 },
 "nbformat": 4,
 "nbformat_minor": 5
}
