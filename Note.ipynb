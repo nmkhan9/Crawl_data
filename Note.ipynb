{
 "cells": [
  {
   "cell_type": "code",
   "execution_count": 1,
   "id": "4472c46c",
   "metadata": {},
   "outputs": [],
   "source": [
    "from selenium import webdriver\n",
    "import time\n",
    "from bs4 import BeautifulSoup\n",
    "from selenium.webdriver.common.by import By\n",
    "from selenium.webdriver.support.ui import WebDriverWait\n",
    "from selenium.webdriver.support import expected_conditions as EC"
   ]
  },
  {
   "cell_type": "code",
   "execution_count": 2,
   "id": "ee543e8c",
   "metadata": {},
   "outputs": [
    {
     "name": "stdout",
     "output_type": "stream",
     "text": [
      "✅ Đã nhấn nút lần 1\n",
      "✅ Đã nhấn nút lần 2\n",
      "✅ Đã nhấn nút lần 3\n"
     ]
    }
   ],
   "source": [
    "driver = webdriver.Chrome()\n",
    "driver.get(\"https://cellphones.com.vn/mobile.html\")\n",
    "\n",
    "wait = WebDriverWait(driver, 10)\n",
    "time.sleep(2) \n",
    "\n",
    "for i in range(3):\n",
    "    try:\n",
    "        driver.execute_script(\"window.scrollTo(0, document.body.scrollHeight);\")\n",
    "        time.sleep(2)\n",
    "\n",
    "\n",
    "        load_button = wait.until(EC.element_to_be_clickable((\n",
    "            By.CSS_SELECTOR,\n",
    "            \"a.button.btn-show-more.button__show-more-product\"\n",
    "        )))\n",
    "        driver.execute_script(\"arguments[0].click();\", load_button)\n",
    "        print(f\"✅ Đã nhấn nút lần {i + 1}\")\n",
    "        time.sleep(2)\n",
    "\n",
    "    except Exception as e:\n",
    "        print(f\"❌ Không còn nút hoặc lỗi: {e}\")\n",
    "        break\n",
    "\n",
    "soup = BeautifulSoup(driver.page_source, \"html.parser\")\n",
    "\n",
    "driver.quit()"
   ]
  },
  {
   "cell_type": "code",
   "execution_count": 3,
   "id": "ff0be770",
   "metadata": {},
   "outputs": [
    {
     "data": {
      "text/plain": [
       "80"
      ]
     },
     "execution_count": 3,
     "metadata": {},
     "output_type": "execute_result"
    }
   ],
   "source": [
    "items = soup.select(\"div.product-info\")\n",
    "len(items)"
   ]
  },
  {
   "cell_type": "code",
   "execution_count": 6,
   "id": "1ae8c64d",
   "metadata": {},
   "outputs": [],
   "source": [
    "driver = webdriver.Chrome()\n",
    "driver.get(\"http://quotes.toscrape.com/login\")\n",
    "\n",
    "wait = WebDriverWait(driver, 10)\n",
    "\n",
    "time.sleep(2) \n",
    "\n",
    "username_box = wait.until(EC.presence_of_element_located((By.ID, \"username\")))\n",
    "username_box.send_keys(\"*****\")\n",
    "\n",
    "password_box = wait.until(EC.presence_of_element_located((By.ID, \"password\")))\n",
    "password_box.send_keys(\"******\")\n",
    "\n",
    "login_button = wait.until(EC.element_to_be_clickable((By.CSS_SELECTOR, \"input.btn.btn-primary\")))\n",
    "login_button.click()\n",
    "\n",
    "time.sleep(10)\n",
    "driver.quit()"
   ]
  },
  {
   "cell_type": "code",
   "execution_count": null,
   "id": "cdc2123c",
   "metadata": {},
   "outputs": [],
   "source": [
    "driver = webdriver.Chrome()\n",
    "driver.get(\"https://qldt.utc.edu.vn/congthongtin/login.aspx\")\n",
    "\n",
    "wait = WebDriverWait(driver, 10)\n",
    "\n",
    "time.sleep(2) \n",
    "\n",
    "username_box = wait.until(EC.presence_of_element_located((By.ID, \"username\")))\n",
    "username_box.send_keys(\"*****\")\n",
    "\n",
    "password_box = wait.until(EC.presence_of_element_located((By.ID, \"password\")))\n",
    "password_box.send_keys(\"_____\")\n",
    "\n",
    "login_button = wait.until(EC.element_to_be_clickable((By.CSS_SELECTOR, \"input.btn.btn-primary.btn-login\")))\n",
    "login_button.click()\n",
    "\n",
    "time.sleep(10)\n",
    "driver.quit()"
   ]
  },
  {
   "cell_type": "code",
   "execution_count": null,
   "id": "c711000d",
   "metadata": {},
   "outputs": [],
   "source": []
  }
 ],
 "metadata": {
  "kernelspec": {
   "display_name": "base",
   "language": "python",
   "name": "python3"
  },
  "language_info": {
   "codemirror_mode": {
    "name": "ipython",
    "version": 3
   },
   "file_extension": ".py",
   "mimetype": "text/x-python",
   "name": "python",
   "nbconvert_exporter": "python",
   "pygments_lexer": "ipython3",
   "version": "3.11.5"
  }
 },
 "nbformat": 4,
 "nbformat_minor": 5
}
